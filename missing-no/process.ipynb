{
 "cells": [
  {
   "cell_type": "code",
   "execution_count": 9,
   "metadata": {},
   "outputs": [
    {
     "name": "stdout",
     "output_type": "stream",
     "text": [
      "310129.0 310129.0 0.0\n",
      "22030092.0 22030092.0 0.0\n",
      "7310000.0 430503982.5 423193982.5\n",
      "197333435.0 804767667.0 607434232.0\n",
      "512074000000.0 890892000000.0 378818000000.0\n",
      "9354920000000.0 10579100000000.0 1224180000000.0\n",
      "102291766.0 102291766.0 0.0\n",
      "4661997001.0 4950926806.0 288929805.0\n",
      "1300.0 1300.0 0.0\n",
      "154131000000.0 180613000000.0 26482000000.0\n",
      "363500000000.0 364545000000.0 1045000000.0\n"
     ]
    },
    {
     "ename": "KeyError",
     "evalue": "'Bithumb #04'",
     "output_type": "error",
     "traceback": [
      "\u001b[0;31m---------------------------------------------------------------------------\u001b[0m",
      "\u001b[0;31mKeyError\u001b[0m                                  Traceback (most recent call last)",
      "Cell \u001b[0;32mIn[9], line 31\u001b[0m\n\u001b[1;32m     29\u001b[0m \u001b[39m# Loop through groups in df, but calculate Q1 and Q3 from dfm\u001b[39;00m\n\u001b[1;32m     30\u001b[0m \u001b[39mfor\u001b[39;00m name, group \u001b[39min\u001b[39;00m grouped:\n\u001b[0;32m---> 31\u001b[0m     Q1 \u001b[39m=\u001b[39m grouped_m\u001b[39m.\u001b[39;49mget_group(name)[\u001b[39m'\u001b[39m\u001b[39mamountValue\u001b[39m\u001b[39m'\u001b[39m]\u001b[39m.\u001b[39mquantile(\u001b[39m0.25\u001b[39m)\n\u001b[1;32m     32\u001b[0m     Q3 \u001b[39m=\u001b[39m grouped_m\u001b[39m.\u001b[39mget_group(name)[\u001b[39m'\u001b[39m\u001b[39mamountValue\u001b[39m\u001b[39m'\u001b[39m]\u001b[39m.\u001b[39mquantile(\u001b[39m0.75\u001b[39m)\n\u001b[1;32m     33\u001b[0m     IQR \u001b[39m=\u001b[39m Q3 \u001b[39m-\u001b[39m Q1\n",
      "File \u001b[0;32m/opt/homebrew/anaconda3/lib/python3.9/site-packages/pandas/core/groupby/groupby.py:800\u001b[0m, in \u001b[0;36mBaseGroupBy.get_group\u001b[0;34m(self, name, obj)\u001b[0m\n\u001b[1;32m    798\u001b[0m inds \u001b[39m=\u001b[39m \u001b[39mself\u001b[39m\u001b[39m.\u001b[39m_get_index(name)\n\u001b[1;32m    799\u001b[0m \u001b[39mif\u001b[39;00m \u001b[39mnot\u001b[39;00m \u001b[39mlen\u001b[39m(inds):\n\u001b[0;32m--> 800\u001b[0m     \u001b[39mraise\u001b[39;00m \u001b[39mKeyError\u001b[39;00m(name)\n\u001b[1;32m    802\u001b[0m \u001b[39mreturn\u001b[39;00m obj\u001b[39m.\u001b[39m_take_with_is_copy(inds, axis\u001b[39m=\u001b[39m\u001b[39mself\u001b[39m\u001b[39m.\u001b[39maxis)\n",
      "\u001b[0;31mKeyError\u001b[0m: 'Bithumb #04'"
     ]
    }
   ],
   "source": [
    "import os\n",
    "import pandas as pd\n",
    "\n",
    "# 입력 파일 이름\n",
    "input_file_name = './data/ucosmos-balance.csv'\n",
    "#input_file_name = './data/ujuno-balance.csv'\n",
    "#input_file_name = './data/ukava-balance.csv'\n",
    "#input_file_name = './data/uosmo-balance.csv'\n",
    "\n",
    "# 데이터셋 로드\n",
    "df = pd.read_csv(input_file_name)\n",
    "\n",
    "# Convert _time column to datetime format\n",
    "df['_time'] = pd.to_datetime(df['_time'])\n",
    "\n",
    "# '2023-01-27T17:00:00Z' 이전의 데이터 필터링\n",
    "df = df[df['_time'] >= '2023-01-27T17:00:00Z']\n",
    "\n",
    "# Create a copy of the dataframe with rows where amountValue is -1 removed\n",
    "dfm = df[df['amountValue'] != -1]\n",
    "\n",
    "# Add a new column 'boxplot' with default value 0 to df\n",
    "df['boxplot'] = 0\n",
    "\n",
    "# Group both dataframes by moduleName\n",
    "grouped = df.groupby('moduleName')\n",
    "grouped_m = dfm.groupby('moduleName')\n",
    "\n",
    "# Loop through groups in df, but calculate Q1 and Q3 from dfm\n",
    "for name, group in grouped:\n",
    "    try:\n",
    "        Q1 = grouped_m.get_group(name)['amountValue'].quantile(0.25)\n",
    "        Q3 = grouped_m.get_group(name)['amountValue'].quantile(0.75)\n",
    "        IQR = Q3 - Q1\n",
    "\n",
    "        min_value = Q1 - 1.5 * IQR\n",
    "        max_value = Q3 + 1.5 * IQR\n",
    "\n",
    "        df.loc[(df['moduleName'] == name) & (df['amountValue'] == -1), 'boxplot'] = -1\n",
    "        df.loc[(df['moduleName'] == name) & (df['amountValue'] < min_value), 'boxplot'] = 1\n",
    "        df.loc[(df['moduleName'] == name) & (df['amountValue'] >= min_value) & (df['amountValue'] < Q1), 'boxplot'] = 2\n",
    "        df.loc[(df['moduleName'] == name) & (df['amountValue'] >= Q1) & (df['amountValue'] < Q3), 'boxplot'] = 3\n",
    "        df.loc[(df['moduleName'] == name) & (df['amountValue'] >= Q3) & (df['amountValue'] < max_value), 'boxplot'] = 4\n",
    "        df.loc[(df['moduleName'] == name) & (df['amountValue'] >= max_value), 'boxplot'] = 5\n",
    "    except KeyError:\n",
    "        continue\n",
    "\n",
    "# 파일의 기본 이름(디렉토리 없음)을 가져와서 파일 확장자 제거\n",
    "base_file_name = os.path.basename(input_file_name)\n",
    "base_file_name_without_extension = os.path.splitext(base_file_name)[0]\n",
    "\n",
    "# 결과 파일이 저장될 디렉토리 정의\n",
    "output_directory = './result-files/'\n",
    "\n",
    "# 출력 파일 이름 생성\n",
    "output_file_name = output_directory + base_file_name_without_extension + '.processed.plus.csv'\n",
    "\n",
    "# 누락된 값의 평균을 수정된 파일 이름의 텍스트 파일로 저장\n",
    "df.to_csv(output_file_name, header=True)"
   ]
  }
 ],
 "metadata": {
  "kernelspec": {
   "display_name": "base",
   "language": "python",
   "name": "python3"
  },
  "language_info": {
   "codemirror_mode": {
    "name": "ipython",
    "version": 3
   },
   "file_extension": ".py",
   "mimetype": "text/x-python",
   "name": "python",
   "nbconvert_exporter": "python",
   "pygments_lexer": "ipython3",
   "version": "3.9.12"
  },
  "orig_nbformat": 4
 },
 "nbformat": 4,
 "nbformat_minor": 2
}
