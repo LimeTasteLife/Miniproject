{
 "cells": [
  {
   "cell_type": "code",
   "execution_count": 26,
   "metadata": {},
   "outputs": [
    {
     "name": "stdout",
     "output_type": "stream",
     "text": [
      "/Users/joohayeong/Desktop/On-chain-project/gitspace/Miniproject/pandas_ai_test/data/uatom-balance.csv\n",
      "                  _time  denom           moduleName moduleType  amountValue\n",
      "0  2022-09-17T22:00:00Z  uatom  Upbit #18 (Staking)   EXCHANGE         -1.0\n",
      "1  2022-09-17T23:00:00Z  uatom  Upbit #18 (Staking)   EXCHANGE         -1.0\n",
      "2  2022-09-18T00:00:00Z  uatom  Upbit #18 (Staking)   EXCHANGE         -1.0\n",
      "3  2022-09-18T01:00:00Z  uatom  Upbit #18 (Staking)   EXCHANGE         -1.0\n",
      "4  2022-09-18T02:00:00Z  uatom  Upbit #18 (Staking)   EXCHANGE         -1.0\n",
      "        amountValue\n",
      "count  9.437600e+04\n",
      "mean   5.325200e+12\n",
      "std    2.940190e+13\n",
      "min    4.300000e+01\n",
      "25%    4.967000e+06\n",
      "50%    7.531833e+08\n",
      "75%    3.640000e+11\n",
      "max    2.310000e+14\n"
     ]
    }
   ],
   "source": [
    "import pandas as pd\n",
    "import numpy as np\n",
    "from pandasai import PandasAI\n",
    "import os\n",
    "\n",
    "# Get the current working directory\n",
    "cwd = os.getcwd()\n",
    "# Specify a relative path from the current working directory\n",
    "relative_path = os.path.join(cwd, 'data/uatom-balance.csv')\n",
    "print(relative_path)\n",
    "df = pd.read_csv(relative_path)\n",
    "print(df.head())\n",
    "# Replace missing values (-1) with NaN\n",
    "df.replace(-1, np.nan, inplace=True)\n",
    "\n",
    "# Convert the '_time' column to a datetime format\n",
    "df['_time'] = pd.to_datetime(df['_time'])\n",
    "# Set the '_time' column as the index\n",
    "df.set_index('_time', inplace=True)\n",
    "# Calculate summary statistics\n",
    "summary_stats = df.describe()\n",
    "# Print the summary statistics\n",
    "print(summary_stats)"
   ]
  },
  {
   "cell_type": "code",
   "execution_count": 17,
   "metadata": {},
   "outputs": [
    {
     "data": {
      "image/png": "[encoded data removed]",
      "text/plain": [
       "<Figure size 432x288 with 1 Axes>"
      ]
     },
     "metadata": {
      "needs_background": "light"
     },
     "output_type": "display_data"
    },
    {
     "name": "stdout",
     "output_type": "stream",
     "text": [
      "        amountValue\n",
      "count  9.437600e+04\n",
      "mean   5.325200e+12\n",
      "std    2.940190e+13\n",
      "min    4.300000e+01\n",
      "25%    4.967000e+06\n",
      "50%    7.531833e+08\n",
      "75%    3.640000e+11\n",
      "max    2.310000e+14\n"
     ]
    }
   ],
   "source": [
    "import matplotlib.pyplot as plt\n",
    "\n",
    "# Filter the DataFrame to only include the 'amountValue' column\n",
    "df_amount = df[['amountValue']]\n",
    "\n",
    "# Plot the time series data\n",
    "plt.plot(df_amount)\n",
    "plt.xlabel('Time')\n",
    "plt.ylabel('Amount Value')\n",
    "plt.title('Time Series Plot of Amount Value')\n",
    "plt.show()\n",
    "\n",
    "# Calculate summary statistics\n",
    "summary_stats = df_amount.describe()\n",
    "\n",
    "# Add the number of non-missing values to the summary statistics\n",
    "summary_stats.loc['count'] = df_amount.count()\n",
    "\n",
    "# Print the summary statistics\n",
    "print(summary_stats)"
   ]
  },
  {
   "cell_type": "code",
   "execution_count": 21,
   "metadata": {},
   "outputs": [
    {
     "ename": "KeyError",
     "evalue": "\"['modulename'] not in index\"",
     "output_type": "error",
     "traceback": [
      "\u001b[0;31m---------------------------------------------------------------------------\u001b[0m",
      "\u001b[0;31mKeyError\u001b[0m                                  Traceback (most recent call last)",
      "Cell \u001b[0;32mIn[21], line 2\u001b[0m\n\u001b[1;32m      1\u001b[0m \u001b[39m# Filter the DataFrame to include the desired variables\u001b[39;00m\n\u001b[0;32m----> 2\u001b[0m df_modulename \u001b[39m=\u001b[39m df[[\u001b[39m'\u001b[39;49m\u001b[39mmodulename\u001b[39;49m\u001b[39m'\u001b[39;49m, \u001b[39m'\u001b[39;49m\u001b[39mamountValue\u001b[39;49m\u001b[39m'\u001b[39;49m]]\n\u001b[1;32m      3\u001b[0m df_moduleType \u001b[39m=\u001b[39m df[[\u001b[39m'\u001b[39m\u001b[39mmoduleType\u001b[39m\u001b[39m'\u001b[39m, \u001b[39m'\u001b[39m\u001b[39mamountValue\u001b[39m\u001b[39m'\u001b[39m]]\n\u001b[1;32m      5\u001b[0m \u001b[39m# Plot the time series data\u001b[39;00m\n",
      "File \u001b[0;32m/opt/homebrew/anaconda3/lib/python3.9/site-packages/pandas/core/frame.py:3767\u001b[0m, in \u001b[0;36mDataFrame.__getitem__\u001b[0;34m(self, key)\u001b[0m\n\u001b[1;32m   3765\u001b[0m     \u001b[39mif\u001b[39;00m is_iterator(key):\n\u001b[1;32m   3766\u001b[0m         key \u001b[39m=\u001b[39m \u001b[39mlist\u001b[39m(key)\n\u001b[0;32m-> 3767\u001b[0m     indexer \u001b[39m=\u001b[39m \u001b[39mself\u001b[39;49m\u001b[39m.\u001b[39;49mcolumns\u001b[39m.\u001b[39;49m_get_indexer_strict(key, \u001b[39m\"\u001b[39;49m\u001b[39mcolumns\u001b[39;49m\u001b[39m\"\u001b[39;49m)[\u001b[39m1\u001b[39m]\n\u001b[1;32m   3769\u001b[0m \u001b[39m# take() does not accept boolean indexers\u001b[39;00m\n\u001b[1;32m   3770\u001b[0m \u001b[39mif\u001b[39;00m \u001b[39mgetattr\u001b[39m(indexer, \u001b[39m\"\u001b[39m\u001b[39mdtype\u001b[39m\u001b[39m\"\u001b[39m, \u001b[39mNone\u001b[39;00m) \u001b[39m==\u001b[39m \u001b[39mbool\u001b[39m:\n",
      "File \u001b[0;32m/opt/homebrew/anaconda3/lib/python3.9/site-packages/pandas/core/indexes/base.py:5876\u001b[0m, in \u001b[0;36mIndex._get_indexer_strict\u001b[0;34m(self, key, axis_name)\u001b[0m\n\u001b[1;32m   5873\u001b[0m \u001b[39melse\u001b[39;00m:\n\u001b[1;32m   5874\u001b[0m     keyarr, indexer, new_indexer \u001b[39m=\u001b[39m \u001b[39mself\u001b[39m\u001b[39m.\u001b[39m_reindex_non_unique(keyarr)\n\u001b[0;32m-> 5876\u001b[0m \u001b[39mself\u001b[39;49m\u001b[39m.\u001b[39;49m_raise_if_missing(keyarr, indexer, axis_name)\n\u001b[1;32m   5878\u001b[0m keyarr \u001b[39m=\u001b[39m \u001b[39mself\u001b[39m\u001b[39m.\u001b[39mtake(indexer)\n\u001b[1;32m   5879\u001b[0m \u001b[39mif\u001b[39;00m \u001b[39misinstance\u001b[39m(key, Index):\n\u001b[1;32m   5880\u001b[0m     \u001b[39m# GH 42790 - Preserve name from an Index\u001b[39;00m\n",
      "File \u001b[0;32m/opt/homebrew/anaconda3/lib/python3.9/site-packages/pandas/core/indexes/base.py:5938\u001b[0m, in \u001b[0;36mIndex._raise_if_missing\u001b[0;34m(self, key, indexer, axis_name)\u001b[0m\n\u001b[1;32m   5935\u001b[0m     \u001b[39mraise\u001b[39;00m \u001b[39mKeyError\u001b[39;00m(\u001b[39mf\u001b[39m\u001b[39m\"\u001b[39m\u001b[39mNone of [\u001b[39m\u001b[39m{\u001b[39;00mkey\u001b[39m}\u001b[39;00m\u001b[39m] are in the [\u001b[39m\u001b[39m{\u001b[39;00maxis_name\u001b[39m}\u001b[39;00m\u001b[39m]\u001b[39m\u001b[39m\"\u001b[39m)\n\u001b[1;32m   5937\u001b[0m not_found \u001b[39m=\u001b[39m \u001b[39mlist\u001b[39m(ensure_index(key)[missing_mask\u001b[39m.\u001b[39mnonzero()[\u001b[39m0\u001b[39m]]\u001b[39m.\u001b[39munique())\n\u001b[0;32m-> 5938\u001b[0m \u001b[39mraise\u001b[39;00m \u001b[39mKeyError\u001b[39;00m(\u001b[39mf\u001b[39m\u001b[39m\"\u001b[39m\u001b[39m{\u001b[39;00mnot_found\u001b[39m}\u001b[39;00m\u001b[39m not in index\u001b[39m\u001b[39m\"\u001b[39m)\n",
      "\u001b[0;31mKeyError\u001b[0m: \"['modulename'] not in index\""
     ]
    }
   ],
   "source": [
    "# Filter the DataFrame to include the desired variables\n",
    "df_modulename = df[['modulename', 'amountValue']]\n",
    "df_moduleType = df[['moduleType', 'amountValue']]\n",
    "\n",
    "# Plot the time series data\n",
    "plt.plot(df_modulename['amountValue'])\n",
    "plt.xlabel('Time')\n",
    "plt.ylabel('Amount Value')\n",
    "plt.title('Time Series Plot of Amount Value by Module Name')\n",
    "plt.show()\n",
    "\n",
    "plt.plot(df_moduleType['amountValue'])\n",
    "plt.xlabel('Time')\n",
    "plt.ylabel('Amount Value')\n",
    "plt.title('Time Series Plot of Amount Value by Module Type')\n",
    "plt.show()"
   ]
  }
 ],
 "metadata": {
  "kernelspec": {
   "display_name": "base",
   "language": "python",
   "name": "python3"
  },
  "language_info": {
   "codemirror_mode": {
    "name": "ipython",
    "version": 3
   },
   "file_extension": ".py",
   "mimetype": "text/x-python",
   "name": "python",
   "nbconvert_exporter": "python",
   "pygments_lexer": "ipython3",
   "version": "3.9.12"
  },
  "orig_nbformat": 4
 },
 "nbformat": 4,
 "nbformat_minor": 2
}
