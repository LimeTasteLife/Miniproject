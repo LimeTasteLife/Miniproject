{
 "cells": [
  {
   "cell_type": "code",
   "execution_count": 14,
   "metadata": {},
   "outputs": [
    {
     "name": "stdout",
     "output_type": "stream",
     "text": [
      "        amountValue\n",
      "count  9.437600e+04\n",
      "mean   5.325200e+12\n",
      "std    2.940190e+13\n",
      "min    4.300000e+01\n",
      "25%    4.967000e+06\n",
      "50%    7.531833e+08\n",
      "75%    3.640000e+11\n",
      "max    2.310000e+14\n"
     ]
    }
   ],
   "source": [
    "import pandas as pd\n",
    "import numpy as np\n",
    "import matplotlib.pyplot as plt\n",
    "import os\n",
    "\n",
    "# Get the current working directory\n",
    "cwd = os.getcwd()\n",
    "# Specify a relative path from the current working directory\n",
    "relative_path = os.path.join(cwd, 'data/uatom-balance.csv')\n",
    "\n",
    "# CSV 파일을 DataFrame으로 읽어온다. 필요한 열만 포함시킨다.\n",
    "df = pd.read_csv(relative_path, usecols=['_time', 'denom', 'moduleName', 'moduleType', 'amountValue'])\n",
    "\n",
    "# '_time' 열을 datetime 형식으로 변환한다.\n",
    "df['_time'] = pd.to_datetime(df['_time'])\n",
    "\n",
    "# '_time' 열을 인덱스로 설정한다.\n",
    "df.set_index('_time', inplace=True)\n",
    "\n",
    "# 누락된 값(-1)을 NaN으로 대체한다.\n",
    "df.replace(-1, np.nan, inplace=True)\n",
    "\n",
    "# 각 열에 대한 요약 통계량을 계산한다.\n",
    "summary_stats = df.describe()\n",
    "\n",
    "# 요약 통계량을 출력한다.\n",
    "print(summary_stats)"
   ]
  },
  {
   "cell_type": "code",
   "execution_count": 19,
   "metadata": {},
   "outputs": [
    {
     "name": "stderr",
     "output_type": "stream",
     "text": [
      "/var/folders/rs/451vhmx909jbf4784zj52l980000gn/T/ipykernel_33656/398408252.py:3: SettingWithCopyWarning: \n",
      "A value is trying to be set on a copy of a slice from a DataFrame\n",
      "\n",
      "See the caveats in the documentation: https://pandas.pydata.org/pandas-docs/stable/user_guide/indexing.html#returning-a-view-versus-a-copy\n",
      "  df_modulename.replace(-1, np.nan, inplace=True)\n"
     ]
    },
    {
     "data": {
      "image/png": "[encoded data removed]",
      "text/plain": [
       "<Figure size 432x288 with 1 Axes>"
      ]
     },
     "metadata": {
      "needs_background": "light"
     },
     "output_type": "display_data"
    }
   ],
   "source": [
    "# 데이터 전처리: 필요한 변수만 선택하고 -1을 NaN으로 대체\n",
    "df_modulename = df[['moduleName', 'amountValue']]\n",
    "df_modulename.replace(-1, np.nan, inplace=True)\n",
    "\n",
    "# 각 모듈별로 amountValue의 시계열 그래프 그리기\n",
    "for module, group in df_modulename.groupby('moduleName'):\n",
    "    plt.plot(group['amountValue'], label=module)"
   ]
  },
  {
   "cell_type": "code",
   "execution_count": null,
   "metadata": {},
   "outputs": [],
   "source": [
    "# 각 열의 누락되지 않은 값을 요약 통계량에 추가한다.\n",
    "summary_stats.loc['count'] = df.count()\n",
    "\n",
    "# 요약 통계량을 출력한다.\n",
    "print(summary_stats)\n",
    "\n",
    "# 'modulename' 및 'moduleType'별 'amountValue' 변수에 대한 시계열 플롯을 생성한다.\n",
    "df_modulename = df.loc[:, ['moduleName', 'amountValue']]\n",
    "df_moduleType = df.loc[:, ['moduleType', 'amountValue']]\n",
    "\n",
    "plt.plot(df_modulename['amountValue'])\n",
    "plt.xlabel('time')\n",
    "plt.ylabel('value')\n",
    "plt.title('by name')\n",
    "plt.show()\n",
    "\n",
    "plt.plot(df_moduleType['amountValue'])\n",
    "plt.xlabel('time')\n",
    "plt.ylabel('value')\n",
    "plt.title('by time')\n",
    "plt.show()"
   ]
  }
 ],
 "metadata": {
  "kernelspec": {
   "display_name": "base",
   "language": "python",
   "name": "python3"
  },
  "language_info": {
   "codemirror_mode": {
    "name": "ipython",
    "version": 3
   },
   "file_extension": ".py",
   "mimetype": "text/x-python",
   "name": "python",
   "nbconvert_exporter": "python",
   "pygments_lexer": "ipython3",
   "version": "3.9.12"
  },
  "orig_nbformat": 4
 },
 "nbformat": 4,
 "nbformat_minor": 2
}
